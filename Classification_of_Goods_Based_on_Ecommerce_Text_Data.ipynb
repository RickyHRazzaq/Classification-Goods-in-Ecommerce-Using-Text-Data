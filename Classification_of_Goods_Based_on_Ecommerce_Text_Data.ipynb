{
  "nbformat": 4,
  "nbformat_minor": 0,
  "metadata": {
    "colab": {
      "provenance": [],
      "authorship_tag": "ABX9TyNoDk1fh9ivlGBDyIO6GsYu",
      "include_colab_link": true
    },
    "kernelspec": {
      "name": "python3",
      "display_name": "Python 3"
    },
    "language_info": {
      "name": "python"
    }
  },
  "cells": [
    {
      "cell_type": "markdown",
      "metadata": {
        "id": "view-in-github",
        "colab_type": "text"
      },
      "source": [
        "<a href=\"https://colab.research.google.com/github/RickyHRazzaq/Classification-Goods-in-Ecommerce-Using-Text-Data/blob/main/Classification_of_Goods_Based_on_Ecommerce_Text_Data.ipynb\" target=\"_parent\"><img src=\"https://colab.research.google.com/assets/colab-badge.svg\" alt=\"Open In Colab\"/></a>"
      ]
    },
    {
      "cell_type": "markdown",
      "source": [
        "# Background\n",
        "\n",
        "This is the classification task projects based on E-commerce text dataset for 4 categories - \"Electronics\", \"Household\", \"Books\" and \"Clothing & Accessories\", which almost cover 80% of any E-commerce website.\n",
        "\n",
        "The dataset is in \".csv\" format with two columns. The first column is the class name and the second one is the datapoint of that class. The data point is the product and description from the one of e-commerce website in Brazil\n",
        "\n",
        "The result of this project is a model that can classify the class of new objects using NLP and machine learning concept\n"
      ],
      "metadata": {
        "id": "JKvy6s6j504y"
      }
    },
    {
      "cell_type": "code",
      "execution_count": null,
      "metadata": {
        "id": "rlxzdloTcoKX"
      },
      "outputs": [],
      "source": [
        "#Import all libraries that be used in this model\n",
        "import pandas as pd\n",
        "import numpy as np\n",
        "import matplotlib.pyplot as plt\n",
        "import seaborn as sns\n",
        "import string\n",
        "import nltk\n",
        "nltk.download('all')\n",
        "\n",
        "from nltk.tokenize import word_tokenize\n",
        "from nltk.corpus import stopwords, wordnet\n",
        "from nltk.stem import WordNetLemmatizer\n",
        "from nltk.tokenize import RegexpTokenizer\n",
        "from nltk import WordNetLemmatizer, PorterStemmer\n",
        "plt.xticks(rotation=70)\n",
        "pd.options.mode.chained_assignment = None\n",
        "pd.set_option('display.max_colwidth', 100)\n",
        "\n",
        "\n",
        "from sklearn.model_selection import train_test_split\n",
        "from sklearn.feature_extraction.text import TfidfTransformer\n",
        "\n",
        "import re\n",
        "\n",
        "%matplotlib inline"
      ]
    },
    {
      "cell_type": "code",
      "source": [
        "# Load the data\n",
        "dataecom = pd.read_csv(\"ecommerceDataset.csv\")"
      ],
      "metadata": {
        "id": "yHxrpO6vfB-P"
      },
      "execution_count": 2,
      "outputs": []
    },
    {
      "cell_type": "code",
      "source": [
        "# Lets take a look at the data\n",
        "dataecom.head()"
      ],
      "metadata": {
        "colab": {
          "base_uri": "https://localhost:8080/",
          "height": 406
        },
        "id": "O_5SGQw0nLd-",
        "outputId": "a114b963-7630-47e1-dcca-e4db78495960"
      },
      "execution_count": 3,
      "outputs": [
        {
          "output_type": "execute_result",
          "data": {
            "text/plain": [
              "   Household  \\\n",
              "0  Household   \n",
              "1  Household   \n",
              "2  Household   \n",
              "3  Household   \n",
              "4  Household   \n",
              "\n",
              "  Paper Plane Design Framed Wall Hanging Motivational Office Decor Art Prints (8.7 X 8.7 inch) - Set of 4 Painting made up in synthetic frame with uv textured print which gives multi effects and attracts towards it. This is an special series of paintings which makes your wall very beautiful and gives a royal touch. This painting is ready to hang, you would be proud to possess this unique painting that is a niche apart. We use only the most modern and efficient printing technology on our prints, with only the and inks and precision epson, roland and hp printers. This innovative hd printing technique results in durable and spectacular looking prints of the highest that last a lifetime. We print solely with top-notch 100% inks, to achieve brilliant and true colours. Due to their high level of uv resistance, our prints retain their beautiful colours for many years. Add colour and style to your living space with this digitally printed painting. Some are for pleasure and some for eternal bliss.so bring home this elegant print that is lushed with rich colors that makes it nothing but sheer elegance to be to your friends and family.it would be treasured forever by whoever your lucky recipient is. Liven up your place with these intriguing paintings that are high definition hd graphic digital prints for home, office or any room.  \n",
              "0  SAF 'Floral' Framed Painting (Wood, 30 inch x 10 inch, Special Effect UV Print Textured, SAO297)...                                                                                                                                                                                                                                                                                                                                                                                                                                                                                                                                                                                                                                                                                                                                                                                                                                                                                                                                                                                                                                                                                                                                                                                                                                                                                        \n",
              "1  SAF 'UV Textured Modern Art Print Framed' Painting (Synthetic, 35 cm x 50 cm x 3 cm, Set of 3) C...                                                                                                                                                                                                                                                                                                                                                                                                                                                                                                                                                                                                                                                                                                                                                                                                                                                                                                                                                                                                                                                                                                                                                                                                                                                                                        \n",
              "2  SAF Flower Print Framed Painting (Synthetic, 13.5 inch x 22 inch, UV Textured, Set of 3, SANFSW4...                                                                                                                                                                                                                                                                                                                                                                                                                                                                                                                                                                                                                                                                                                                                                                                                                                                                                                                                                                                                                                                                                                                                                                                                                                                                                        \n",
              "3  Incredible Gifts India Wooden Happy Birthday Unique Personalized Gift (5 X 4 Inch) Size:4 x 5   ...                                                                                                                                                                                                                                                                                                                                                                                                                                                                                                                                                                                                                                                                                                                                                                                                                                                                                                                                                                                                                                                                                                                                                                                                                                                                                        \n",
              "4  Pitaara Box Romantic Venice Canvas Painting 6mm Thick Mdf Frame 21.1 X 14Inch Enclosure Material...                                                                                                                                                                                                                                                                                                                                                                                                                                                                                                                                                                                                                                                                                                                                                                                                                                                                                                                                                                                                                                                                                                                                                                                                                                                                                        "
            ],
            "text/html": [
              "\n",
              "  <div id=\"df-9537f578-87f5-440c-9765-4cb24ff90af8\">\n",
              "    <div class=\"colab-df-container\">\n",
              "      <div>\n",
              "<style scoped>\n",
              "    .dataframe tbody tr th:only-of-type {\n",
              "        vertical-align: middle;\n",
              "    }\n",
              "\n",
              "    .dataframe tbody tr th {\n",
              "        vertical-align: top;\n",
              "    }\n",
              "\n",
              "    .dataframe thead th {\n",
              "        text-align: right;\n",
              "    }\n",
              "</style>\n",
              "<table border=\"1\" class=\"dataframe\">\n",
              "  <thead>\n",
              "    <tr style=\"text-align: right;\">\n",
              "      <th></th>\n",
              "      <th>Household</th>\n",
              "      <th>Paper Plane Design Framed Wall Hanging Motivational Office Decor Art Prints (8.7 X 8.7 inch) - Set of 4 Painting made up in synthetic frame with uv textured print which gives multi effects and attracts towards it. This is an special series of paintings which makes your wall very beautiful and gives a royal touch. This painting is ready to hang, you would be proud to possess this unique painting that is a niche apart. We use only the most modern and efficient printing technology on our prints, with only the and inks and precision epson, roland and hp printers. This innovative hd printing technique results in durable and spectacular looking prints of the highest that last a lifetime. We print solely with top-notch 100% inks, to achieve brilliant and true colours. Due to their high level of uv resistance, our prints retain their beautiful colours for many years. Add colour and style to your living space with this digitally printed painting. Some are for pleasure and some for eternal bliss.so bring home this elegant print that is lushed with rich colors that makes it nothing but sheer elegance to be to your friends and family.it would be treasured forever by whoever your lucky recipient is. Liven up your place with these intriguing paintings that are high definition hd graphic digital prints for home, office or any room.</th>\n",
              "    </tr>\n",
              "  </thead>\n",
              "  <tbody>\n",
              "    <tr>\n",
              "      <th>0</th>\n",
              "      <td>Household</td>\n",
              "      <td>SAF 'Floral' Framed Painting (Wood, 30 inch x 10 inch, Special Effect UV Print Textured, SAO297)...</td>\n",
              "    </tr>\n",
              "    <tr>\n",
              "      <th>1</th>\n",
              "      <td>Household</td>\n",
              "      <td>SAF 'UV Textured Modern Art Print Framed' Painting (Synthetic, 35 cm x 50 cm x 3 cm, Set of 3) C...</td>\n",
              "    </tr>\n",
              "    <tr>\n",
              "      <th>2</th>\n",
              "      <td>Household</td>\n",
              "      <td>SAF Flower Print Framed Painting (Synthetic, 13.5 inch x 22 inch, UV Textured, Set of 3, SANFSW4...</td>\n",
              "    </tr>\n",
              "    <tr>\n",
              "      <th>3</th>\n",
              "      <td>Household</td>\n",
              "      <td>Incredible Gifts India Wooden Happy Birthday Unique Personalized Gift (5 X 4 Inch) Size:4 x 5   ...</td>\n",
              "    </tr>\n",
              "    <tr>\n",
              "      <th>4</th>\n",
              "      <td>Household</td>\n",
              "      <td>Pitaara Box Romantic Venice Canvas Painting 6mm Thick Mdf Frame 21.1 X 14Inch Enclosure Material...</td>\n",
              "    </tr>\n",
              "  </tbody>\n",
              "</table>\n",
              "</div>\n",
              "      <button class=\"colab-df-convert\" onclick=\"convertToInteractive('df-9537f578-87f5-440c-9765-4cb24ff90af8')\"\n",
              "              title=\"Convert this dataframe to an interactive table.\"\n",
              "              style=\"display:none;\">\n",
              "        \n",
              "  <svg xmlns=\"http://www.w3.org/2000/svg\" height=\"24px\"viewBox=\"0 0 24 24\"\n",
              "       width=\"24px\">\n",
              "    <path d=\"M0 0h24v24H0V0z\" fill=\"none\"/>\n",
              "    <path d=\"M18.56 5.44l.94 2.06.94-2.06 2.06-.94-2.06-.94-.94-2.06-.94 2.06-2.06.94zm-11 1L8.5 8.5l.94-2.06 2.06-.94-2.06-.94L8.5 2.5l-.94 2.06-2.06.94zm10 10l.94 2.06.94-2.06 2.06-.94-2.06-.94-.94-2.06-.94 2.06-2.06.94z\"/><path d=\"M17.41 7.96l-1.37-1.37c-.4-.4-.92-.59-1.43-.59-.52 0-1.04.2-1.43.59L10.3 9.45l-7.72 7.72c-.78.78-.78 2.05 0 2.83L4 21.41c.39.39.9.59 1.41.59.51 0 1.02-.2 1.41-.59l7.78-7.78 2.81-2.81c.8-.78.8-2.07 0-2.86zM5.41 20L4 18.59l7.72-7.72 1.47 1.35L5.41 20z\"/>\n",
              "  </svg>\n",
              "      </button>\n",
              "      \n",
              "  <style>\n",
              "    .colab-df-container {\n",
              "      display:flex;\n",
              "      flex-wrap:wrap;\n",
              "      gap: 12px;\n",
              "    }\n",
              "\n",
              "    .colab-df-convert {\n",
              "      background-color: #E8F0FE;\n",
              "      border: none;\n",
              "      border-radius: 50%;\n",
              "      cursor: pointer;\n",
              "      display: none;\n",
              "      fill: #1967D2;\n",
              "      height: 32px;\n",
              "      padding: 0 0 0 0;\n",
              "      width: 32px;\n",
              "    }\n",
              "\n",
              "    .colab-df-convert:hover {\n",
              "      background-color: #E2EBFA;\n",
              "      box-shadow: 0px 1px 2px rgba(60, 64, 67, 0.3), 0px 1px 3px 1px rgba(60, 64, 67, 0.15);\n",
              "      fill: #174EA6;\n",
              "    }\n",
              "\n",
              "    [theme=dark] .colab-df-convert {\n",
              "      background-color: #3B4455;\n",
              "      fill: #D2E3FC;\n",
              "    }\n",
              "\n",
              "    [theme=dark] .colab-df-convert:hover {\n",
              "      background-color: #434B5C;\n",
              "      box-shadow: 0px 1px 3px 1px rgba(0, 0, 0, 0.15);\n",
              "      filter: drop-shadow(0px 1px 2px rgba(0, 0, 0, 0.3));\n",
              "      fill: #FFFFFF;\n",
              "    }\n",
              "  </style>\n",
              "\n",
              "      <script>\n",
              "        const buttonEl =\n",
              "          document.querySelector('#df-9537f578-87f5-440c-9765-4cb24ff90af8 button.colab-df-convert');\n",
              "        buttonEl.style.display =\n",
              "          google.colab.kernel.accessAllowed ? 'block' : 'none';\n",
              "\n",
              "        async function convertToInteractive(key) {\n",
              "          const element = document.querySelector('#df-9537f578-87f5-440c-9765-4cb24ff90af8');\n",
              "          const dataTable =\n",
              "            await google.colab.kernel.invokeFunction('convertToInteractive',\n",
              "                                                     [key], {});\n",
              "          if (!dataTable) return;\n",
              "\n",
              "          const docLinkHtml = 'Like what you see? Visit the ' +\n",
              "            '<a target=\"_blank\" href=https://colab.research.google.com/notebooks/data_table.ipynb>data table notebook</a>'\n",
              "            + ' to learn more about interactive tables.';\n",
              "          element.innerHTML = '';\n",
              "          dataTable['output_type'] = 'display_data';\n",
              "          await google.colab.output.renderOutput(dataTable, element);\n",
              "          const docLink = document.createElement('div');\n",
              "          docLink.innerHTML = docLinkHtml;\n",
              "          element.appendChild(docLink);\n",
              "        }\n",
              "      </script>\n",
              "    </div>\n",
              "  </div>\n",
              "  "
            ]
          },
          "metadata": {},
          "execution_count": 3
        }
      ]
    },
    {
      "cell_type": "markdown",
      "source": [
        "I am going to create the columns name in the data since it doesn't have columns name yet"
      ],
      "metadata": {
        "id": "fa1EAJnM86kw"
      }
    },
    {
      "cell_type": "code",
      "source": [
        "# Create the column name\n",
        "dataecom.columns = ['jenis', 'deskripsi']"
      ],
      "metadata": {
        "id": "yQlw8BKgnSSf"
      },
      "execution_count": 4,
      "outputs": []
    },
    {
      "cell_type": "code",
      "source": [
        "# To getting know more about the data, I want to check how many missing values exist in this data\n",
        "dataecom.isna().sum()"
      ],
      "metadata": {
        "colab": {
          "base_uri": "https://localhost:8080/"
        },
        "id": "MS06qY9QTmX1",
        "outputId": "52b4cbbc-0a3f-4ff6-979e-66406eb2cf26"
      },
      "execution_count": 5,
      "outputs": [
        {
          "output_type": "execute_result",
          "data": {
            "text/plain": [
              "jenis        0\n",
              "deskripsi    1\n",
              "dtype: int64"
            ]
          },
          "metadata": {},
          "execution_count": 5
        }
      ]
    },
    {
      "cell_type": "markdown",
      "source": [
        "From the result of code above, there is only 1 row that contains missing value. This is not really affects to our dataset but I will still delete it"
      ],
      "metadata": {
        "id": "hVX2uyZq9ZX-"
      }
    },
    {
      "cell_type": "code",
      "source": [
        "# Delete the missing value. Since there is only 1 row data that contains null in 'Deskripsi' column, so it will not be big issue if I delete it\n",
        "dataecom.dropna()"
      ],
      "metadata": {
        "id": "QBjMzaYQVJN9",
        "colab": {
          "base_uri": "https://localhost:8080/",
          "height": 423
        },
        "outputId": "851302de-8eb6-4e0b-e7cb-29c3f43ab9f0"
      },
      "execution_count": 10,
      "outputs": [
        {
          "output_type": "execute_result",
          "data": {
            "text/plain": [
              "             jenis  \\\n",
              "0        Household   \n",
              "1        Household   \n",
              "2        Household   \n",
              "3        Household   \n",
              "4        Household   \n",
              "...            ...   \n",
              "50419  Electronics   \n",
              "50420  Electronics   \n",
              "50421  Electronics   \n",
              "50422  Electronics   \n",
              "50423  Electronics   \n",
              "\n",
              "                                                                                                 deskripsi  \n",
              "0      SAF 'Floral' Framed Painting (Wood, 30 inch x 10 inch, Special Effect UV Print Textured, SAO297)...  \n",
              "1      SAF 'UV Textured Modern Art Print Framed' Painting (Synthetic, 35 cm x 50 cm x 3 cm, Set of 3) C...  \n",
              "2      SAF Flower Print Framed Painting (Synthetic, 13.5 inch x 22 inch, UV Textured, Set of 3, SANFSW4...  \n",
              "3      Incredible Gifts India Wooden Happy Birthday Unique Personalized Gift (5 X 4 Inch) Size:4 x 5   ...  \n",
              "4      Pitaara Box Romantic Venice Canvas Painting 6mm Thick Mdf Frame 21.1 X 14Inch Enclosure Material...  \n",
              "...                                                                                                    ...  \n",
              "50419  Strontium MicroSD Class 10 8GB Memory Card (Black) With mobiles literally becoming our life-savi...  \n",
              "50420  CrossBeats Wave Waterproof Bluetooth Wireless Earphones For Mobile With Mic And Carry Case ( Bla...  \n",
              "50421  Karbonn Titanium Wind W4 (White) Karbonn Titanium Wind W4 Efficient Performance A power packed W...  \n",
              "50422  Samsung Guru FM Plus (SM-B110E/D, Black) Colour:Black   Compact Design If you are looking for a ...  \n",
              "50423                                                                     Micromax Canvas Win W121 (White)  \n",
              "\n",
              "[50423 rows x 2 columns]"
            ],
            "text/html": [
              "\n",
              "  <div id=\"df-947eb63b-5190-46f6-8a5d-95a746028716\">\n",
              "    <div class=\"colab-df-container\">\n",
              "      <div>\n",
              "<style scoped>\n",
              "    .dataframe tbody tr th:only-of-type {\n",
              "        vertical-align: middle;\n",
              "    }\n",
              "\n",
              "    .dataframe tbody tr th {\n",
              "        vertical-align: top;\n",
              "    }\n",
              "\n",
              "    .dataframe thead th {\n",
              "        text-align: right;\n",
              "    }\n",
              "</style>\n",
              "<table border=\"1\" class=\"dataframe\">\n",
              "  <thead>\n",
              "    <tr style=\"text-align: right;\">\n",
              "      <th></th>\n",
              "      <th>jenis</th>\n",
              "      <th>deskripsi</th>\n",
              "    </tr>\n",
              "  </thead>\n",
              "  <tbody>\n",
              "    <tr>\n",
              "      <th>0</th>\n",
              "      <td>Household</td>\n",
              "      <td>SAF 'Floral' Framed Painting (Wood, 30 inch x 10 inch, Special Effect UV Print Textured, SAO297)...</td>\n",
              "    </tr>\n",
              "    <tr>\n",
              "      <th>1</th>\n",
              "      <td>Household</td>\n",
              "      <td>SAF 'UV Textured Modern Art Print Framed' Painting (Synthetic, 35 cm x 50 cm x 3 cm, Set of 3) C...</td>\n",
              "    </tr>\n",
              "    <tr>\n",
              "      <th>2</th>\n",
              "      <td>Household</td>\n",
              "      <td>SAF Flower Print Framed Painting (Synthetic, 13.5 inch x 22 inch, UV Textured, Set of 3, SANFSW4...</td>\n",
              "    </tr>\n",
              "    <tr>\n",
              "      <th>3</th>\n",
              "      <td>Household</td>\n",
              "      <td>Incredible Gifts India Wooden Happy Birthday Unique Personalized Gift (5 X 4 Inch) Size:4 x 5   ...</td>\n",
              "    </tr>\n",
              "    <tr>\n",
              "      <th>4</th>\n",
              "      <td>Household</td>\n",
              "      <td>Pitaara Box Romantic Venice Canvas Painting 6mm Thick Mdf Frame 21.1 X 14Inch Enclosure Material...</td>\n",
              "    </tr>\n",
              "    <tr>\n",
              "      <th>...</th>\n",
              "      <td>...</td>\n",
              "      <td>...</td>\n",
              "    </tr>\n",
              "    <tr>\n",
              "      <th>50419</th>\n",
              "      <td>Electronics</td>\n",
              "      <td>Strontium MicroSD Class 10 8GB Memory Card (Black) With mobiles literally becoming our life-savi...</td>\n",
              "    </tr>\n",
              "    <tr>\n",
              "      <th>50420</th>\n",
              "      <td>Electronics</td>\n",
              "      <td>CrossBeats Wave Waterproof Bluetooth Wireless Earphones For Mobile With Mic And Carry Case ( Bla...</td>\n",
              "    </tr>\n",
              "    <tr>\n",
              "      <th>50421</th>\n",
              "      <td>Electronics</td>\n",
              "      <td>Karbonn Titanium Wind W4 (White) Karbonn Titanium Wind W4 Efficient Performance A power packed W...</td>\n",
              "    </tr>\n",
              "    <tr>\n",
              "      <th>50422</th>\n",
              "      <td>Electronics</td>\n",
              "      <td>Samsung Guru FM Plus (SM-B110E/D, Black) Colour:Black   Compact Design If you are looking for a ...</td>\n",
              "    </tr>\n",
              "    <tr>\n",
              "      <th>50423</th>\n",
              "      <td>Electronics</td>\n",
              "      <td>Micromax Canvas Win W121 (White)</td>\n",
              "    </tr>\n",
              "  </tbody>\n",
              "</table>\n",
              "<p>50423 rows × 2 columns</p>\n",
              "</div>\n",
              "      <button class=\"colab-df-convert\" onclick=\"convertToInteractive('df-947eb63b-5190-46f6-8a5d-95a746028716')\"\n",
              "              title=\"Convert this dataframe to an interactive table.\"\n",
              "              style=\"display:none;\">\n",
              "        \n",
              "  <svg xmlns=\"http://www.w3.org/2000/svg\" height=\"24px\"viewBox=\"0 0 24 24\"\n",
              "       width=\"24px\">\n",
              "    <path d=\"M0 0h24v24H0V0z\" fill=\"none\"/>\n",
              "    <path d=\"M18.56 5.44l.94 2.06.94-2.06 2.06-.94-2.06-.94-.94-2.06-.94 2.06-2.06.94zm-11 1L8.5 8.5l.94-2.06 2.06-.94-2.06-.94L8.5 2.5l-.94 2.06-2.06.94zm10 10l.94 2.06.94-2.06 2.06-.94-2.06-.94-.94-2.06-.94 2.06-2.06.94z\"/><path d=\"M17.41 7.96l-1.37-1.37c-.4-.4-.92-.59-1.43-.59-.52 0-1.04.2-1.43.59L10.3 9.45l-7.72 7.72c-.78.78-.78 2.05 0 2.83L4 21.41c.39.39.9.59 1.41.59.51 0 1.02-.2 1.41-.59l7.78-7.78 2.81-2.81c.8-.78.8-2.07 0-2.86zM5.41 20L4 18.59l7.72-7.72 1.47 1.35L5.41 20z\"/>\n",
              "  </svg>\n",
              "      </button>\n",
              "      \n",
              "  <style>\n",
              "    .colab-df-container {\n",
              "      display:flex;\n",
              "      flex-wrap:wrap;\n",
              "      gap: 12px;\n",
              "    }\n",
              "\n",
              "    .colab-df-convert {\n",
              "      background-color: #E8F0FE;\n",
              "      border: none;\n",
              "      border-radius: 50%;\n",
              "      cursor: pointer;\n",
              "      display: none;\n",
              "      fill: #1967D2;\n",
              "      height: 32px;\n",
              "      padding: 0 0 0 0;\n",
              "      width: 32px;\n",
              "    }\n",
              "\n",
              "    .colab-df-convert:hover {\n",
              "      background-color: #E2EBFA;\n",
              "      box-shadow: 0px 1px 2px rgba(60, 64, 67, 0.3), 0px 1px 3px 1px rgba(60, 64, 67, 0.15);\n",
              "      fill: #174EA6;\n",
              "    }\n",
              "\n",
              "    [theme=dark] .colab-df-convert {\n",
              "      background-color: #3B4455;\n",
              "      fill: #D2E3FC;\n",
              "    }\n",
              "\n",
              "    [theme=dark] .colab-df-convert:hover {\n",
              "      background-color: #434B5C;\n",
              "      box-shadow: 0px 1px 3px 1px rgba(0, 0, 0, 0.15);\n",
              "      filter: drop-shadow(0px 1px 2px rgba(0, 0, 0, 0.3));\n",
              "      fill: #FFFFFF;\n",
              "    }\n",
              "  </style>\n",
              "\n",
              "      <script>\n",
              "        const buttonEl =\n",
              "          document.querySelector('#df-947eb63b-5190-46f6-8a5d-95a746028716 button.colab-df-convert');\n",
              "        buttonEl.style.display =\n",
              "          google.colab.kernel.accessAllowed ? 'block' : 'none';\n",
              "\n",
              "        async function convertToInteractive(key) {\n",
              "          const element = document.querySelector('#df-947eb63b-5190-46f6-8a5d-95a746028716');\n",
              "          const dataTable =\n",
              "            await google.colab.kernel.invokeFunction('convertToInteractive',\n",
              "                                                     [key], {});\n",
              "          if (!dataTable) return;\n",
              "\n",
              "          const docLinkHtml = 'Like what you see? Visit the ' +\n",
              "            '<a target=\"_blank\" href=https://colab.research.google.com/notebooks/data_table.ipynb>data table notebook</a>'\n",
              "            + ' to learn more about interactive tables.';\n",
              "          element.innerHTML = '';\n",
              "          dataTable['output_type'] = 'display_data';\n",
              "          await google.colab.output.renderOutput(dataTable, element);\n",
              "          const docLink = document.createElement('div');\n",
              "          docLink.innerHTML = docLinkHtml;\n",
              "          element.appendChild(docLink);\n",
              "        }\n",
              "      </script>\n",
              "    </div>\n",
              "  </div>\n",
              "  "
            ]
          },
          "metadata": {},
          "execution_count": 10
        }
      ]
    },
    {
      "cell_type": "markdown",
      "source": [
        "I will do a simple EDA to just know a little bit more about the data"
      ],
      "metadata": {
        "id": "BSJmkE-M98wY"
      }
    },
    {
      "cell_type": "code",
      "source": [
        "# Creating the barplot to know how many data each category has\n",
        "\n",
        "plt.figure(figsize=(8,5))\n",
        "ax = sns.countplot(x=dataecom[\"jenis\"],  data=dataecom, order = dataecom[\"jenis\"].value_counts().index )\n",
        "\n",
        "for p, label in zip(ax.patches, dataecom[\"jenis\"].value_counts()):   \n",
        "    ax.annotate(label, (p.get_x()+0.25, p.get_height()+0.5))"
      ],
      "metadata": {
        "colab": {
          "base_uri": "https://localhost:8080/",
          "height": 334
        },
        "id": "3J5jnEhYUeNK",
        "outputId": "dbed8d15-adb8-4445-c37a-50d2c7668039"
      },
      "execution_count": 11,
      "outputs": [
        {
          "output_type": "display_data",
          "data": {
            "text/plain": [
              "<Figure size 576x360 with 1 Axes>"
            ],
            "image/png": "[encoded data removed]"
          },
          "metadata": {
            "needs_background": "light"
          }
        }
      ]
    },
    {
      "cell_type": "markdown",
      "source": [
        "Most of the goods from the dataset are classified as household category, followed by books, electronics and clothing & accessories"
      ],
      "metadata": {
        "id": "ZIEUXc9R-8z8"
      }
    },
    {
      "cell_type": "markdown",
      "source": [
        "# Data Preparation"
      ],
      "metadata": {
        "id": "XA1PTnVaBDKP"
      }
    },
    {
      "cell_type": "markdown",
      "source": [
        "I am going to transform the data, specifically the 'jenis' column. I will use label encoder to transform the data from categorical into numeric. This will helps us to proceed to the next step later, which is modeling step"
      ],
      "metadata": {
        "id": "lqqrmacu_jdK"
      }
    },
    {
      "cell_type": "code",
      "source": [
        "from sklearn.preprocessing import LabelEncoder\n",
        "\n",
        "labelencoder = LabelEncoder()\n",
        "dataecom['encoded'] = labelencoder.fit_transform(dataecom['jenis'])"
      ],
      "metadata": {
        "id": "NWCYfx1vYgWR"
      },
      "execution_count": 13,
      "outputs": []
    },
    {
      "cell_type": "code",
      "source": [
        "dataecom[['jenis','encoded']].value_counts()"
      ],
      "metadata": {
        "id": "9_n6ZToYYqsL",
        "colab": {
          "base_uri": "https://localhost:8080/"
        },
        "outputId": "f08e274e-b85c-4012-81bd-559ab041fb37"
      },
      "execution_count": 14,
      "outputs": [
        {
          "output_type": "execute_result",
          "data": {
            "text/plain": [
              "jenis                   encoded\n",
              "Household               3          19312\n",
              "Books                   0          11820\n",
              "Electronics             2          10621\n",
              "Clothing & Accessories  1           8671\n",
              "dtype: int64"
            ]
          },
          "metadata": {},
          "execution_count": 14
        }
      ]
    },
    {
      "cell_type": "markdown",
      "source": [
        "Next I will create X and y variable for modeling. The X variable is 'deskripsi' column and it will acts as independent variable. Then, the y variable is 'encoded' column and it will be my dependent variable or the variable which contains the value that I want to predict"
      ],
      "metadata": {
        "id": "fXAcCEyrAEw9"
      }
    },
    {
      "cell_type": "code",
      "source": [
        "X = dataecom['deskripsi']\n",
        "y = dataecom['encoded']"
      ],
      "metadata": {
        "id": "WksDsxXNYwux"
      },
      "execution_count": 15,
      "outputs": []
    },
    {
      "cell_type": "markdown",
      "source": [
        "Before move on to the next step, don't forget to split the dataset into training and test dataset. For this problem, I decided to choose the test size 40% of the entire data. This number is like a common number in splitting data step "
      ],
      "metadata": {
        "id": "uyxO1FXGCd3-"
      }
    },
    {
      "cell_type": "code",
      "source": [
        "from sklearn.model_selection import StratifiedShuffleSplit\n",
        "sss = StratifiedShuffleSplit(n_splits=1, test_size=0.4, random_state=42)\n",
        "\n",
        "sss.get_n_splits(X, y)"
      ],
      "metadata": {
        "id": "9dSmC865Y51U",
        "colab": {
          "base_uri": "https://localhost:8080/"
        },
        "outputId": "33e1ec43-5a17-4796-a51b-7f98a9339e39"
      },
      "execution_count": 16,
      "outputs": [
        {
          "output_type": "execute_result",
          "data": {
            "text/plain": [
              "1"
            ]
          },
          "metadata": {},
          "execution_count": 16
        }
      ]
    },
    {
      "cell_type": "code",
      "source": [
        "for train_index, test_index in sss.split(X,y):\n",
        "    X_train, X_test = X[train_index], X[test_index]\n",
        "    y_train, y_test = y[train_index], y[test_index] "
      ],
      "metadata": {
        "id": "Xhq1ADSLY9RY"
      },
      "execution_count": 17,
      "outputs": []
    },
    {
      "cell_type": "markdown",
      "source": [
        "Since this project is involved with text data, It should have some function to process the text data"
      ],
      "metadata": {
        "id": "XIbSbFDeEDlH"
      }
    },
    {
      "cell_type": "code",
      "source": [
        "#function to convert all letter into lowercase\n",
        "def convert_ke_lowercase(teks):\n",
        "    return teks.str.lower()\n",
        "\n",
        "#function to delete punctuations\n",
        "def hapus_punctuations(teks):\n",
        "    english_punctuation = string.punctuation\n",
        "    translator = str.maketrans('','', english_punctuation)\n",
        "    return str(teks).translate(translator)\n",
        "\n",
        "#function to remove stopwords\n",
        "def hapus_stopwords(teks):\n",
        "    from nltk.corpus import stopwords\n",
        "    stopwords = set(stopwords.words('english'))\n",
        "    return \" \".join([word for word in str(teks).split() if word not in stopwords])\n",
        "\n",
        "#function to delete repeating character\n",
        "def hapus_karakter_berulang(teks):\n",
        "    return re.sub(r'(.)1+', r'1', teks)\n",
        "\n",
        "#function to delete number from text\n",
        "def hapus_numerik(teks):\n",
        "    return re.sub('[0-9]+', '', teks)\n",
        "\n",
        "#tokenization function\n",
        "def tokenization(teks):\n",
        "    tokenizer = RegexpTokenizer('\\w+')\n",
        "    teks = teks.apply(tokenizer.tokenize)\n",
        "    return teks\n",
        "\n",
        "#lemmatizing text function\n",
        "#i.e, Converting some of the words to their root form. \n",
        "def lematization(teks):\n",
        "    lm = WordNetLemmatizer()\n",
        "    teks = [lm.lemmatize(word) for word in teks]\n",
        "    return teks "
      ],
      "metadata": {
        "id": "xWGQl6xQ6lT7"
      },
      "execution_count": 19,
      "outputs": []
    },
    {
      "cell_type": "markdown",
      "source": [
        "Finally, I will combine all of the functions before into one function"
      ],
      "metadata": {
        "id": "nHjqjp6GCMAa"
      }
    },
    {
      "cell_type": "code",
      "source": [
        "def preprocess(teks):\n",
        "    teks = convert_ke_lowercase(teks)\n",
        "    teks = teks.apply(lambda x : hapus_punctuations(x))\n",
        "    teks = teks.apply(lambda x : hapus_stopwords(x))\n",
        "    teks = teks.apply(lambda x : hapus_karakter_berulang(x))\n",
        "    teks = teks.apply(lambda x : hapus_numerik(x))\n",
        "    teks = tokenization(teks)\n",
        "    teks = teks.apply(lambda x : lematization(x))\n",
        "    teks = teks.apply(lambda x: \" \".join(x))\n",
        "    return teks"
      ],
      "metadata": {
        "id": "Xf2Hy6Yo8OW_"
      },
      "execution_count": 20,
      "outputs": []
    },
    {
      "cell_type": "code",
      "source": [
        "X_train = preprocess(X_train)"
      ],
      "metadata": {
        "id": "1OYKn4Wb8xQq"
      },
      "execution_count": 21,
      "outputs": []
    },
    {
      "cell_type": "code",
      "source": [
        "X_train"
      ],
      "metadata": {
        "id": "XtHK0vxc-abZ",
        "colab": {
          "base_uri": "https://localhost:8080/"
        },
        "outputId": "871dc4a2-2368-48f9-9067-6d07217d8548"
      },
      "execution_count": 22,
      "outputs": [
        {
          "output_type": "execute_result",
          "data": {
            "text/plain": [
              "26636                                                                           trump think like billionaire\n",
              "37698    newmom maternity legging seamless tummy support excellent stretchability newmom maternity leggin...\n",
              "22143                                                           ugc netjrf exam solved paper psychology book\n",
              "12302    masoom nx heavy base clear shot glass vodka tequila cordial espresso liqueur shot glass ml set h...\n",
              "14098    nextgeek ac steam generator iron power cable plug core main cord lead universal core flexible br...\n",
              "                                                        ...                                                 \n",
              "4694     polyworm bernini wall oval mirror pwrmlargelavish gold timeless masterpiece bernini mirror itali...\n",
              "30728    feeling good new mood therapy review book read reread los angeles timesa book read reread los an...\n",
              "17953    blue heaven studio primer g makeup fixer mist sprayml combo primer lightweight formula silicone ...\n",
              "9608     premium quality heavy tadka panfrying panwaghariadal tadka panfrypan cooking purpose hotel home ...\n",
              "25043    everything kid learning french book fun exercise help learn francais author dawnmichelle baude p...\n",
              "Name: deskripsi, Length: 30254, dtype: object"
            ]
          },
          "metadata": {},
          "execution_count": 22
        }
      ]
    },
    {
      "cell_type": "code",
      "source": [
        "#Transformasi data teks menggunakan tf-idf vectorizer\n",
        "from sklearn.feature_extraction.text import TfidfVectorizer\n",
        "\n",
        "vectoriser = TfidfVectorizer(ngram_range= (1,2), max_features= 300000)\n",
        "vectoriser.fit(X_train)"
      ],
      "metadata": {
        "id": "l0QcbDw9-dYw",
        "colab": {
          "base_uri": "https://localhost:8080/"
        },
        "outputId": "9de35fb1-40e6-4cd5-b31f-b7a3c2ffdde4"
      },
      "execution_count": 23,
      "outputs": [
        {
          "output_type": "execute_result",
          "data": {
            "text/plain": [
              "TfidfVectorizer(max_features=300000, ngram_range=(1, 2))"
            ]
          },
          "metadata": {},
          "execution_count": 23
        }
      ]
    },
    {
      "cell_type": "code",
      "source": [
        "print(\" No. of Feature words: \", len(vectoriser.get_feature_names()))"
      ],
      "metadata": {
        "id": "89jdbJek-11R",
        "colab": {
          "base_uri": "https://localhost:8080/"
        },
        "outputId": "839a28c7-a585-4fc0-9e3c-491fe6693ac0"
      },
      "execution_count": 24,
      "outputs": [
        {
          "output_type": "stream",
          "name": "stderr",
          "text": [
            "/usr/local/lib/python3.8/dist-packages/sklearn/utils/deprecation.py:87: FutureWarning: Function get_feature_names is deprecated; get_feature_names is deprecated in 1.0 and will be removed in 1.2. Please use get_feature_names_out instead.\n",
            "  warnings.warn(msg, category=FutureWarning)\n"
          ]
        },
        {
          "output_type": "stream",
          "name": "stdout",
          "text": [
            " No. of Feature words:  300000\n"
          ]
        }
      ]
    },
    {
      "cell_type": "code",
      "source": [
        "# Transforming The training data using the vectoriser\n",
        "X_train = vectoriser.transform(X_train)"
      ],
      "metadata": {
        "id": "lX-bNlo7-5VT"
      },
      "execution_count": 25,
      "outputs": []
    },
    {
      "cell_type": "markdown",
      "source": [
        "# Modeling"
      ],
      "metadata": {
        "id": "UYHU65EnBLB2"
      }
    },
    {
      "cell_type": "markdown",
      "source": [
        "For the modeling, I am going to use some type of models, which are random forest and XGBoost. These models are really powerful and accurate to do classification task "
      ],
      "metadata": {
        "id": "pvGH2OoeEncf"
      }
    },
    {
      "cell_type": "code",
      "source": [
        "#Random Forest Model\n",
        "from random import Random\n",
        "from sklearn.ensemble import RandomForestClassifier\n",
        "from xgboost import XGBClassifier\n",
        "\n",
        "random_forest_classifier = RandomForestClassifier(n_estimators= 10, criterion= 'entropy', random_state= 42)\n",
        "random_forest_classifier.fit(X_train, y_train)"
      ],
      "metadata": {
        "id": "-ssxYv4F--Qs",
        "colab": {
          "base_uri": "https://localhost:8080/"
        },
        "outputId": "c6249de2-c1b1-4df4-c736-9d6d0e0def00"
      },
      "execution_count": 26,
      "outputs": [
        {
          "output_type": "execute_result",
          "data": {
            "text/plain": [
              "RandomForestClassifier(criterion='entropy', n_estimators=10, random_state=42)"
            ]
          },
          "metadata": {},
          "execution_count": 26
        }
      ]
    },
    {
      "cell_type": "code",
      "source": [
        "# XGBoost model\n",
        "xgb_boost_classifier = XGBClassifier()\n",
        "xgb_boost_classifier.fit(X_train, y_train)"
      ],
      "metadata": {
        "id": "ZTTaRaAS_FP_",
        "colab": {
          "base_uri": "https://localhost:8080/"
        },
        "outputId": "4c80861c-3052-477c-e640-dbbf2866a806"
      },
      "execution_count": 27,
      "outputs": [
        {
          "output_type": "execute_result",
          "data": {
            "text/plain": [
              "XGBClassifier(objective='multi:softprob')"
            ]
          },
          "metadata": {},
          "execution_count": 27
        }
      ]
    },
    {
      "cell_type": "code",
      "source": [
        "#evaluasi performansi kedua model\n",
        "from sklearn.metrics import accuracy_score\n",
        "\n",
        "X_test = preprocess(X_test)\n",
        "X_test = vectoriser.transform(X_test) \n",
        "\n",
        "random_forest_predictions = random_forest_classifier.predict(X_test)\n",
        "xgb_predictions = xgb_boost_classifier.predict(X_test)\n",
        "\n",
        "random_forest_score = accuracy_score(y_test, random_forest_predictions)\n",
        "xgb_score = accuracy_score(y_test, xgb_predictions)\n",
        "\n",
        "print(\"Random Forest Classifier Accuracy: \", random_forest_score * 100 , \"%\")\n",
        "print(\"XGBoost Classifier Accuracy: \", xgb_score * 100 , \"%\")"
      ],
      "metadata": {
        "id": "JyMeU9DE_IZc",
        "colab": {
          "base_uri": "https://localhost:8080/"
        },
        "outputId": "81432959-ff85-4c12-e2d8-9cae52062fa0"
      },
      "execution_count": 28,
      "outputs": [
        {
          "output_type": "stream",
          "name": "stdout",
          "text": [
            "Random Forest Classifier Accuracy:  95.25532969757064 %\n",
            "XGBoost Classifier Accuracy:  87.96232027764006 %\n"
          ]
        }
      ]
    },
    {
      "cell_type": "markdown",
      "source": [
        "Random Forest has better accuracy than XGBoost so I will use that to be my model to predict the category of goods"
      ],
      "metadata": {
        "id": "gM6vKR-AJxH4"
      }
    },
    {
      "cell_type": "code",
      "source": [
        "def predict_custom(inp):\n",
        "    inp = pd.Series(inp)\n",
        "    inp = preprocess(inp)\n",
        "    inp = [inp[0],]\n",
        "    inp = vectoriser.transform(inp)\n",
        "    prediction = random_forest_classifier.predict(inp)\n",
        "    prediction = prediction[0]\n",
        "\n",
        "    interpretations = {\n",
        "        0 : \"Books\",\n",
        "        1 : \"Clothing and Accessories\",\n",
        "        2 : \"Electronics\",\n",
        "        3 : \"Household\"\n",
        "    }\n",
        "\n",
        "    for i in interpretations.keys():\n",
        "        if i == prediction:\n",
        "            return interpretations[i]"
      ],
      "metadata": {
        "id": "LiFO5pJdAqTr"
      },
      "execution_count": null,
      "outputs": []
    },
    {
      "cell_type": "markdown",
      "source": [
        "# Test the result of model"
      ],
      "metadata": {
        "id": "3cdqSJPKBOpl"
      }
    },
    {
      "cell_type": "code",
      "source": [
        "inp = \"1-Sentence-Summary: Atomic Habits is the definitive guide to breaking bad behaviors and adopting good ones in four steps, showing you how small, incremental, everyday routines compound into massive, positive change over time\"\n",
        "print(\"prediction inp: \", predict_custom(inp))"
      ],
      "metadata": {
        "colab": {
          "base_uri": "https://localhost:8080/"
        },
        "id": "8_QxyGZ0A-be",
        "outputId": "93e2c5ab-25b0-4fbe-c903-618259351dd0"
      },
      "execution_count": null,
      "outputs": [
        {
          "output_type": "stream",
          "name": "stdout",
          "text": [
            "prediction inp:  Books\n"
          ]
        }
      ]
    }
  ]
}